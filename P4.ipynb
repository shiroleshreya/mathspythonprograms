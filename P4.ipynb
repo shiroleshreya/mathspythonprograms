{
  "nbformat": 4,
  "nbformat_minor": 0,
  "metadata": {
    "colab": {
      "provenance": [],
      "authorship_tag": "ABX9TyP7Y/a6xJTrxoM5aTQfsZBl",
      "include_colab_link": true
    },
    "kernelspec": {
      "name": "python3",
      "display_name": "Python 3"
    },
    "language_info": {
      "name": "python"
    }
  },
  "cells": [
    {
      "cell_type": "markdown",
      "metadata": {
        "id": "view-in-github",
        "colab_type": "text"
      },
      "source": [
        "<a href=\"https://colab.research.google.com/github/shiroleshreya/mathspythonprograms/blob/main/P4.ipynb\" target=\"_parent\"><img src=\"https://colab.research.google.com/assets/colab-badge.svg\" alt=\"Open In Colab\"/></a>"
      ]
    },
    {
      "cell_type": "code",
      "execution_count": null,
      "metadata": {
        "id": "6zeTN1nLpOBV",
        "colab": {
          "base_uri": "https://localhost:8080/"
        },
        "outputId": "362b1104-329f-4d6b-eaa4-83d42522b147"
      },
      "outputs": [
        {
          "output_type": "stream",
          "name": "stdout",
          "text": [
            "enter the value of a: 1\n",
            "enter the value of n: 5\n",
            "enter the value of a: 3\n",
            "enter the value of n: 7\n",
            "enter the value of a: 1\n",
            "enter the value of n: 9\n",
            "Chinese remainder therorm: 136\n"
          ]
        }
      ],
      "source": [
        "from functools import reduce\n",
        "def chinese_remainder(n, a):\n",
        "    sum = 0\n",
        "    prod = reduce(lambda a, b: a*b, n)\n",
        "    for n_i, a_i in zip(n, a):\n",
        "        p = prod // n_i\n",
        "        sum += a_i * mul_inv(p, n_i) * p\n",
        "    return sum % prod\n",
        "\n",
        "def mul_inv(a, b):\n",
        "    b0 = b\n",
        "    x0, x1 = 0, 1\n",
        "    if b == 1:\n",
        "        return 1\n",
        "    while a > 1:\n",
        "        q = a // b\n",
        "        a, b = b, a%b\n",
        "        x0, x1 = x1 - q * x0, x0\n",
        "    if x1 < 0:\n",
        "        x1 += b0\n",
        "    return x1\n",
        "\n",
        "if __name__ == '__main__':\n",
        "    n=[]\n",
        "    a=[]\n",
        "    for i in range(0,3):\n",
        "        p=int(input('enter the value of a: '))\n",
        "        q=int(input('enter the value of n: '))\n",
        "        n.append(q)\n",
        "        a.append(p)\n",
        "\n",
        "    print('Chinese remainder therorm:',chinese_remainder(n, a))"
      ]
    }
  ]
}